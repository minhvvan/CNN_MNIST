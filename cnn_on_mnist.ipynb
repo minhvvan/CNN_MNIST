{
  "nbformat": 4,
  "nbformat_minor": 0,
  "metadata": {
    "kernelspec": {
      "display_name": "Python 3",
      "language": "python",
      "name": "python3"
    },
    "language_info": {
      "codemirror_mode": {
        "name": "ipython",
        "version": 3
      },
      "file_extension": ".py",
      "mimetype": "text/x-python",
      "name": "python",
      "nbconvert_exporter": "python",
      "pygments_lexer": "ipython3",
      "version": "3.7.6"
    },
    "papermill": {
      "duration": 145.01386,
      "end_time": "2020-12-13T15:15:53.255145",
      "environment_variables": {},
      "exception": null,
      "input_path": "__notebook__.ipynb",
      "output_path": "__notebook__.ipynb",
      "parameters": {},
      "start_time": "2020-12-13T15:13:28.241285",
      "version": "2.1.0"
    },
    "colab": {
      "name": "cnn-on-mnist.ipynb",
      "provenance": [],
      "include_colab_link": true
    }
  },
  "cells": [
    {
      "cell_type": "markdown",
      "metadata": {
        "id": "view-in-github",
        "colab_type": "text"
      },
      "source": [
        "<a href=\"https://colab.research.google.com/github/minhvvan/CNN_MNIST/blob/main/cnn_on_mnist.ipynb\" target=\"_parent\"><img src=\"https://colab.research.google.com/assets/colab-badge.svg\" alt=\"Open In Colab\"/></a>"
      ]
    },
    {
      "cell_type": "code",
      "metadata": {
        "_cell_guid": "b1076dfc-b9ad-4769-8c92-a6c4dae69d19",
        "_uuid": "8f2839f25d086af736a60e9eeb907d3b93b6e0e5",
        "execution": {
          "iopub.execute_input": "2020-12-13T15:13:32.822951Z",
          "iopub.status.busy": "2020-12-13T15:13:32.822212Z",
          "iopub.status.idle": "2020-12-13T15:13:39.061379Z",
          "shell.execute_reply": "2020-12-13T15:13:39.060671Z"
        },
        "papermill": {
          "duration": 6.262137,
          "end_time": "2020-12-13T15:13:39.061511",
          "exception": false,
          "start_time": "2020-12-13T15:13:32.799374",
          "status": "completed"
        },
        "tags": [],
        "id": "0I-KSjfyyXH6",
        "outputId": "4ccdf7ba-2bfd-4983-d54e-548147d912d3"
      },
      "source": [
        "# This Python 3 environment comes with many helpful analytics libraries installed\n",
        "# It is defined by the kaggle/python Docker image: https://github.com/kaggle/docker-python\n",
        "# For example, here's several helpful packages to load\n",
        "\n",
        "import numpy as np # linear algebra\n",
        "import pandas as pd # data processing, CSV file I/O (e.g. pd.read_csv)\n",
        "import tensorflow as tf\n",
        "\n",
        "# Input data files are available in the read-only \"../input/\" directory\n",
        "# For example, running this (by clicking run or pressing Shift+Enter) will list all files under the input directory\n",
        "\n",
        "import os\n",
        "for dirname, _, filenames in os.walk('/kaggle/input'):\n",
        "    for filename in filenames:\n",
        "        print(os.path.join(dirname, filename))\n",
        "\n",
        "# You can write up to 20GB to the current directory (/kaggle/working/) that gets preserved as output when you create a version using \"Save & Run All\" \n",
        "# You can also write temporary files to /kaggle/temp/, but they won't be saved outside of the current session"
      ],
      "execution_count": null,
      "outputs": [
        {
          "output_type": "stream",
          "text": [
            "/kaggle/input/digit-recognizer/sample_submission.csv\n",
            "/kaggle/input/digit-recognizer/train.csv\n",
            "/kaggle/input/digit-recognizer/test.csv\n"
          ],
          "name": "stdout"
        }
      ]
    },
    {
      "cell_type": "code",
      "metadata": {
        "_cell_guid": "79c7e3d0-c299-4dcb-8224-4455121ee9b0",
        "_uuid": "d629ff2d2480ee46fbb7e2d37f6b5fab8052498a",
        "execution": {
          "iopub.execute_input": "2020-12-13T15:13:39.098853Z",
          "iopub.status.busy": "2020-12-13T15:13:39.098269Z",
          "iopub.status.idle": "2020-12-13T15:13:46.017407Z",
          "shell.execute_reply": "2020-12-13T15:13:46.016519Z"
        },
        "papermill": {
          "duration": 6.940494,
          "end_time": "2020-12-13T15:13:46.017544",
          "exception": false,
          "start_time": "2020-12-13T15:13:39.077050",
          "status": "completed"
        },
        "tags": [],
        "id": "rulflVFRyXID"
      },
      "source": [
        "train = pd.read_csv('/kaggle/input/digit-recognizer/train.csv')\n",
        "test = pd.read_csv('/kaggle/input/digit-recognizer/test.csv')"
      ],
      "execution_count": null,
      "outputs": []
    },
    {
      "cell_type": "code",
      "metadata": {
        "execution": {
          "iopub.execute_input": "2020-12-13T15:13:46.058225Z",
          "iopub.status.busy": "2020-12-13T15:13:46.057403Z",
          "iopub.status.idle": "2020-12-13T15:13:46.087427Z",
          "shell.execute_reply": "2020-12-13T15:13:46.087958Z"
        },
        "papermill": {
          "duration": 0.055276,
          "end_time": "2020-12-13T15:13:46.088089",
          "exception": false,
          "start_time": "2020-12-13T15:13:46.032813",
          "status": "completed"
        },
        "tags": [],
        "id": "f42_mVDCyXID",
        "outputId": "7e36b0a3-6365-4bb2-ae86-850a173e942c"
      },
      "source": [
        "train"
      ],
      "execution_count": null,
      "outputs": [
        {
          "output_type": "execute_result",
          "data": {
            "text/html": [
              "<div>\n",
              "<style scoped>\n",
              "    .dataframe tbody tr th:only-of-type {\n",
              "        vertical-align: middle;\n",
              "    }\n",
              "\n",
              "    .dataframe tbody tr th {\n",
              "        vertical-align: top;\n",
              "    }\n",
              "\n",
              "    .dataframe thead th {\n",
              "        text-align: right;\n",
              "    }\n",
              "</style>\n",
              "<table border=\"1\" class=\"dataframe\">\n",
              "  <thead>\n",
              "    <tr style=\"text-align: right;\">\n",
              "      <th></th>\n",
              "      <th>label</th>\n",
              "      <th>pixel0</th>\n",
              "      <th>pixel1</th>\n",
              "      <th>pixel2</th>\n",
              "      <th>pixel3</th>\n",
              "      <th>pixel4</th>\n",
              "      <th>pixel5</th>\n",
              "      <th>pixel6</th>\n",
              "      <th>pixel7</th>\n",
              "      <th>pixel8</th>\n",
              "      <th>...</th>\n",
              "      <th>pixel774</th>\n",
              "      <th>pixel775</th>\n",
              "      <th>pixel776</th>\n",
              "      <th>pixel777</th>\n",
              "      <th>pixel778</th>\n",
              "      <th>pixel779</th>\n",
              "      <th>pixel780</th>\n",
              "      <th>pixel781</th>\n",
              "      <th>pixel782</th>\n",
              "      <th>pixel783</th>\n",
              "    </tr>\n",
              "  </thead>\n",
              "  <tbody>\n",
              "    <tr>\n",
              "      <th>0</th>\n",
              "      <td>1</td>\n",
              "      <td>0</td>\n",
              "      <td>0</td>\n",
              "      <td>0</td>\n",
              "      <td>0</td>\n",
              "      <td>0</td>\n",
              "      <td>0</td>\n",
              "      <td>0</td>\n",
              "      <td>0</td>\n",
              "      <td>0</td>\n",
              "      <td>...</td>\n",
              "      <td>0</td>\n",
              "      <td>0</td>\n",
              "      <td>0</td>\n",
              "      <td>0</td>\n",
              "      <td>0</td>\n",
              "      <td>0</td>\n",
              "      <td>0</td>\n",
              "      <td>0</td>\n",
              "      <td>0</td>\n",
              "      <td>0</td>\n",
              "    </tr>\n",
              "    <tr>\n",
              "      <th>1</th>\n",
              "      <td>0</td>\n",
              "      <td>0</td>\n",
              "      <td>0</td>\n",
              "      <td>0</td>\n",
              "      <td>0</td>\n",
              "      <td>0</td>\n",
              "      <td>0</td>\n",
              "      <td>0</td>\n",
              "      <td>0</td>\n",
              "      <td>0</td>\n",
              "      <td>...</td>\n",
              "      <td>0</td>\n",
              "      <td>0</td>\n",
              "      <td>0</td>\n",
              "      <td>0</td>\n",
              "      <td>0</td>\n",
              "      <td>0</td>\n",
              "      <td>0</td>\n",
              "      <td>0</td>\n",
              "      <td>0</td>\n",
              "      <td>0</td>\n",
              "    </tr>\n",
              "    <tr>\n",
              "      <th>2</th>\n",
              "      <td>1</td>\n",
              "      <td>0</td>\n",
              "      <td>0</td>\n",
              "      <td>0</td>\n",
              "      <td>0</td>\n",
              "      <td>0</td>\n",
              "      <td>0</td>\n",
              "      <td>0</td>\n",
              "      <td>0</td>\n",
              "      <td>0</td>\n",
              "      <td>...</td>\n",
              "      <td>0</td>\n",
              "      <td>0</td>\n",
              "      <td>0</td>\n",
              "      <td>0</td>\n",
              "      <td>0</td>\n",
              "      <td>0</td>\n",
              "      <td>0</td>\n",
              "      <td>0</td>\n",
              "      <td>0</td>\n",
              "      <td>0</td>\n",
              "    </tr>\n",
              "    <tr>\n",
              "      <th>3</th>\n",
              "      <td>4</td>\n",
              "      <td>0</td>\n",
              "      <td>0</td>\n",
              "      <td>0</td>\n",
              "      <td>0</td>\n",
              "      <td>0</td>\n",
              "      <td>0</td>\n",
              "      <td>0</td>\n",
              "      <td>0</td>\n",
              "      <td>0</td>\n",
              "      <td>...</td>\n",
              "      <td>0</td>\n",
              "      <td>0</td>\n",
              "      <td>0</td>\n",
              "      <td>0</td>\n",
              "      <td>0</td>\n",
              "      <td>0</td>\n",
              "      <td>0</td>\n",
              "      <td>0</td>\n",
              "      <td>0</td>\n",
              "      <td>0</td>\n",
              "    </tr>\n",
              "    <tr>\n",
              "      <th>4</th>\n",
              "      <td>0</td>\n",
              "      <td>0</td>\n",
              "      <td>0</td>\n",
              "      <td>0</td>\n",
              "      <td>0</td>\n",
              "      <td>0</td>\n",
              "      <td>0</td>\n",
              "      <td>0</td>\n",
              "      <td>0</td>\n",
              "      <td>0</td>\n",
              "      <td>...</td>\n",
              "      <td>0</td>\n",
              "      <td>0</td>\n",
              "      <td>0</td>\n",
              "      <td>0</td>\n",
              "      <td>0</td>\n",
              "      <td>0</td>\n",
              "      <td>0</td>\n",
              "      <td>0</td>\n",
              "      <td>0</td>\n",
              "      <td>0</td>\n",
              "    </tr>\n",
              "    <tr>\n",
              "      <th>...</th>\n",
              "      <td>...</td>\n",
              "      <td>...</td>\n",
              "      <td>...</td>\n",
              "      <td>...</td>\n",
              "      <td>...</td>\n",
              "      <td>...</td>\n",
              "      <td>...</td>\n",
              "      <td>...</td>\n",
              "      <td>...</td>\n",
              "      <td>...</td>\n",
              "      <td>...</td>\n",
              "      <td>...</td>\n",
              "      <td>...</td>\n",
              "      <td>...</td>\n",
              "      <td>...</td>\n",
              "      <td>...</td>\n",
              "      <td>...</td>\n",
              "      <td>...</td>\n",
              "      <td>...</td>\n",
              "      <td>...</td>\n",
              "      <td>...</td>\n",
              "    </tr>\n",
              "    <tr>\n",
              "      <th>41995</th>\n",
              "      <td>0</td>\n",
              "      <td>0</td>\n",
              "      <td>0</td>\n",
              "      <td>0</td>\n",
              "      <td>0</td>\n",
              "      <td>0</td>\n",
              "      <td>0</td>\n",
              "      <td>0</td>\n",
              "      <td>0</td>\n",
              "      <td>0</td>\n",
              "      <td>...</td>\n",
              "      <td>0</td>\n",
              "      <td>0</td>\n",
              "      <td>0</td>\n",
              "      <td>0</td>\n",
              "      <td>0</td>\n",
              "      <td>0</td>\n",
              "      <td>0</td>\n",
              "      <td>0</td>\n",
              "      <td>0</td>\n",
              "      <td>0</td>\n",
              "    </tr>\n",
              "    <tr>\n",
              "      <th>41996</th>\n",
              "      <td>1</td>\n",
              "      <td>0</td>\n",
              "      <td>0</td>\n",
              "      <td>0</td>\n",
              "      <td>0</td>\n",
              "      <td>0</td>\n",
              "      <td>0</td>\n",
              "      <td>0</td>\n",
              "      <td>0</td>\n",
              "      <td>0</td>\n",
              "      <td>...</td>\n",
              "      <td>0</td>\n",
              "      <td>0</td>\n",
              "      <td>0</td>\n",
              "      <td>0</td>\n",
              "      <td>0</td>\n",
              "      <td>0</td>\n",
              "      <td>0</td>\n",
              "      <td>0</td>\n",
              "      <td>0</td>\n",
              "      <td>0</td>\n",
              "    </tr>\n",
              "    <tr>\n",
              "      <th>41997</th>\n",
              "      <td>7</td>\n",
              "      <td>0</td>\n",
              "      <td>0</td>\n",
              "      <td>0</td>\n",
              "      <td>0</td>\n",
              "      <td>0</td>\n",
              "      <td>0</td>\n",
              "      <td>0</td>\n",
              "      <td>0</td>\n",
              "      <td>0</td>\n",
              "      <td>...</td>\n",
              "      <td>0</td>\n",
              "      <td>0</td>\n",
              "      <td>0</td>\n",
              "      <td>0</td>\n",
              "      <td>0</td>\n",
              "      <td>0</td>\n",
              "      <td>0</td>\n",
              "      <td>0</td>\n",
              "      <td>0</td>\n",
              "      <td>0</td>\n",
              "    </tr>\n",
              "    <tr>\n",
              "      <th>41998</th>\n",
              "      <td>6</td>\n",
              "      <td>0</td>\n",
              "      <td>0</td>\n",
              "      <td>0</td>\n",
              "      <td>0</td>\n",
              "      <td>0</td>\n",
              "      <td>0</td>\n",
              "      <td>0</td>\n",
              "      <td>0</td>\n",
              "      <td>0</td>\n",
              "      <td>...</td>\n",
              "      <td>0</td>\n",
              "      <td>0</td>\n",
              "      <td>0</td>\n",
              "      <td>0</td>\n",
              "      <td>0</td>\n",
              "      <td>0</td>\n",
              "      <td>0</td>\n",
              "      <td>0</td>\n",
              "      <td>0</td>\n",
              "      <td>0</td>\n",
              "    </tr>\n",
              "    <tr>\n",
              "      <th>41999</th>\n",
              "      <td>9</td>\n",
              "      <td>0</td>\n",
              "      <td>0</td>\n",
              "      <td>0</td>\n",
              "      <td>0</td>\n",
              "      <td>0</td>\n",
              "      <td>0</td>\n",
              "      <td>0</td>\n",
              "      <td>0</td>\n",
              "      <td>0</td>\n",
              "      <td>...</td>\n",
              "      <td>0</td>\n",
              "      <td>0</td>\n",
              "      <td>0</td>\n",
              "      <td>0</td>\n",
              "      <td>0</td>\n",
              "      <td>0</td>\n",
              "      <td>0</td>\n",
              "      <td>0</td>\n",
              "      <td>0</td>\n",
              "      <td>0</td>\n",
              "    </tr>\n",
              "  </tbody>\n",
              "</table>\n",
              "<p>42000 rows × 785 columns</p>\n",
              "</div>"
            ],
            "text/plain": [
              "       label  pixel0  pixel1  pixel2  pixel3  pixel4  pixel5  pixel6  pixel7  \\\n",
              "0          1       0       0       0       0       0       0       0       0   \n",
              "1          0       0       0       0       0       0       0       0       0   \n",
              "2          1       0       0       0       0       0       0       0       0   \n",
              "3          4       0       0       0       0       0       0       0       0   \n",
              "4          0       0       0       0       0       0       0       0       0   \n",
              "...      ...     ...     ...     ...     ...     ...     ...     ...     ...   \n",
              "41995      0       0       0       0       0       0       0       0       0   \n",
              "41996      1       0       0       0       0       0       0       0       0   \n",
              "41997      7       0       0       0       0       0       0       0       0   \n",
              "41998      6       0       0       0       0       0       0       0       0   \n",
              "41999      9       0       0       0       0       0       0       0       0   \n",
              "\n",
              "       pixel8  ...  pixel774  pixel775  pixel776  pixel777  pixel778  \\\n",
              "0           0  ...         0         0         0         0         0   \n",
              "1           0  ...         0         0         0         0         0   \n",
              "2           0  ...         0         0         0         0         0   \n",
              "3           0  ...         0         0         0         0         0   \n",
              "4           0  ...         0         0         0         0         0   \n",
              "...       ...  ...       ...       ...       ...       ...       ...   \n",
              "41995       0  ...         0         0         0         0         0   \n",
              "41996       0  ...         0         0         0         0         0   \n",
              "41997       0  ...         0         0         0         0         0   \n",
              "41998       0  ...         0         0         0         0         0   \n",
              "41999       0  ...         0         0         0         0         0   \n",
              "\n",
              "       pixel779  pixel780  pixel781  pixel782  pixel783  \n",
              "0             0         0         0         0         0  \n",
              "1             0         0         0         0         0  \n",
              "2             0         0         0         0         0  \n",
              "3             0         0         0         0         0  \n",
              "4             0         0         0         0         0  \n",
              "...         ...       ...       ...       ...       ...  \n",
              "41995         0         0         0         0         0  \n",
              "41996         0         0         0         0         0  \n",
              "41997         0         0         0         0         0  \n",
              "41998         0         0         0         0         0  \n",
              "41999         0         0         0         0         0  \n",
              "\n",
              "[42000 rows x 785 columns]"
            ]
          },
          "metadata": {
            "tags": []
          },
          "execution_count": 3
        }
      ]
    },
    {
      "cell_type": "code",
      "metadata": {
        "execution": {
          "iopub.execute_input": "2020-12-13T15:13:46.124396Z",
          "iopub.status.busy": "2020-12-13T15:13:46.122599Z",
          "iopub.status.idle": "2020-12-13T15:13:46.125072Z",
          "shell.execute_reply": "2020-12-13T15:13:46.125535Z"
        },
        "papermill": {
          "duration": 0.022286,
          "end_time": "2020-12-13T15:13:46.125643",
          "exception": false,
          "start_time": "2020-12-13T15:13:46.103357",
          "status": "completed"
        },
        "tags": [],
        "id": "ct7RkvNSyXIE"
      },
      "source": [
        "Y_train = train[\"label\"]"
      ],
      "execution_count": null,
      "outputs": []
    },
    {
      "cell_type": "code",
      "metadata": {
        "execution": {
          "iopub.execute_input": "2020-12-13T15:13:46.237805Z",
          "iopub.status.busy": "2020-12-13T15:13:46.236933Z",
          "iopub.status.idle": "2020-12-13T15:13:46.240120Z",
          "shell.execute_reply": "2020-12-13T15:13:46.239590Z"
        },
        "papermill": {
          "duration": 0.099485,
          "end_time": "2020-12-13T15:13:46.240237",
          "exception": false,
          "start_time": "2020-12-13T15:13:46.140752",
          "status": "completed"
        },
        "tags": [],
        "id": "ZMA04tJuyXIF"
      },
      "source": [
        "X_train = train.drop(labels = [\"label\"],axis = 1)"
      ],
      "execution_count": null,
      "outputs": []
    },
    {
      "cell_type": "code",
      "metadata": {
        "execution": {
          "iopub.execute_input": "2020-12-13T15:13:46.277966Z",
          "iopub.status.busy": "2020-12-13T15:13:46.276821Z",
          "iopub.status.idle": "2020-12-13T15:13:46.280797Z",
          "shell.execute_reply": "2020-12-13T15:13:46.280073Z"
        },
        "papermill": {
          "duration": 0.025409,
          "end_time": "2020-12-13T15:13:46.280927",
          "exception": false,
          "start_time": "2020-12-13T15:13:46.255518",
          "status": "completed"
        },
        "tags": [],
        "id": "FavUkSQwyXIF",
        "outputId": "ca695141-c22c-4099-adac-3dea2bd09977"
      },
      "source": [
        "print(X_train.shape)\n",
        "print(Y_train.shape)\n",
        "print(test.shape)"
      ],
      "execution_count": null,
      "outputs": [
        {
          "output_type": "stream",
          "text": [
            "(42000, 784)\n",
            "(42000,)\n",
            "(28000, 784)\n"
          ],
          "name": "stdout"
        }
      ]
    },
    {
      "cell_type": "code",
      "metadata": {
        "execution": {
          "iopub.execute_input": "2020-12-13T15:13:46.317370Z",
          "iopub.status.busy": "2020-12-13T15:13:46.316291Z",
          "iopub.status.idle": "2020-12-13T15:13:46.551337Z",
          "shell.execute_reply": "2020-12-13T15:13:46.550731Z"
        },
        "papermill": {
          "duration": 0.254717,
          "end_time": "2020-12-13T15:13:46.551448",
          "exception": false,
          "start_time": "2020-12-13T15:13:46.296731",
          "status": "completed"
        },
        "tags": [],
        "id": "Y6bK4SR8yXIG"
      },
      "source": [
        "X_train = X_train.astype('float32') / 255\n",
        "test = test.astype('float32') / 255"
      ],
      "execution_count": null,
      "outputs": []
    },
    {
      "cell_type": "code",
      "metadata": {
        "execution": {
          "iopub.execute_input": "2020-12-13T15:13:46.589070Z",
          "iopub.status.busy": "2020-12-13T15:13:46.588436Z",
          "iopub.status.idle": "2020-12-13T15:13:46.592462Z",
          "shell.execute_reply": "2020-12-13T15:13:46.591821Z"
        },
        "papermill": {
          "duration": 0.024755,
          "end_time": "2020-12-13T15:13:46.592579",
          "exception": false,
          "start_time": "2020-12-13T15:13:46.567824",
          "status": "completed"
        },
        "tags": [],
        "id": "ERYlcAcyyXIG"
      },
      "source": [
        "X_train = X_train.values.reshape(42000,28,28,1)\n",
        "test = test.values.reshape(28000,28,28,1)"
      ],
      "execution_count": null,
      "outputs": []
    },
    {
      "cell_type": "code",
      "metadata": {
        "execution": {
          "iopub.execute_input": "2020-12-13T15:13:46.632106Z",
          "iopub.status.busy": "2020-12-13T15:13:46.629871Z",
          "iopub.status.idle": "2020-12-13T15:13:46.635732Z",
          "shell.execute_reply": "2020-12-13T15:13:46.636349Z"
        },
        "papermill": {
          "duration": 0.027635,
          "end_time": "2020-12-13T15:13:46.636482",
          "exception": false,
          "start_time": "2020-12-13T15:13:46.608847",
          "status": "completed"
        },
        "tags": [],
        "id": "nMcfHeMnyXIG",
        "outputId": "02102f6e-cc2c-4d14-eebb-f0c1759ff900"
      },
      "source": [
        "Y_train = tf.keras.utils.to_categorical(Y_train, num_classes = 10)\n",
        "print(Y_train[1])"
      ],
      "execution_count": null,
      "outputs": [
        {
          "output_type": "stream",
          "text": [
            "[1. 0. 0. 0. 0. 0. 0. 0. 0. 0.]\n"
          ],
          "name": "stdout"
        }
      ]
    },
    {
      "cell_type": "code",
      "metadata": {
        "execution": {
          "iopub.execute_input": "2020-12-13T15:13:46.677280Z",
          "iopub.status.busy": "2020-12-13T15:13:46.676611Z",
          "iopub.status.idle": "2020-12-13T15:13:46.952094Z",
          "shell.execute_reply": "2020-12-13T15:13:46.952617Z"
        },
        "papermill": {
          "duration": 0.299599,
          "end_time": "2020-12-13T15:13:46.952767",
          "exception": false,
          "start_time": "2020-12-13T15:13:46.653168",
          "status": "completed"
        },
        "tags": [],
        "id": "IzX-VfsoyXIH",
        "outputId": "bda6a1a2-f4bb-4290-ad66-50e0c9d143c3"
      },
      "source": [
        "import matplotlib.pyplot as plt\n",
        "plt.figure(figsize = (20,10))\n",
        "x = test[42]\n",
        "x = x.reshape(28,28)\n",
        "plt.imshow(x , cmap='gray')"
      ],
      "execution_count": null,
      "outputs": [
        {
          "output_type": "execute_result",
          "data": {
            "text/plain": [
              "<matplotlib.image.AxesImage at 0x7fcdeae33350>"
            ]
          },
          "metadata": {
            "tags": []
          },
          "execution_count": 10
        },
        {
          "output_type": "display_data",
          "data": {
            "image/png": "[encoded data removed]",
            "text/plain": [
              "<Figure size 1440x720 with 1 Axes>"
            ]
          },
          "metadata": {
            "tags": [],
            "needs_background": "light"
          }
        }
      ]
    },
    {
      "cell_type": "code",
      "metadata": {
        "execution": {
          "iopub.execute_input": "2020-12-13T15:13:47.045624Z",
          "iopub.status.busy": "2020-12-13T15:13:47.043251Z",
          "iopub.status.idle": "2020-12-13T15:13:47.050392Z",
          "shell.execute_reply": "2020-12-13T15:13:47.048555Z"
        },
        "papermill": {
          "duration": 0.05652,
          "end_time": "2020-12-13T15:13:47.050527",
          "exception": false,
          "start_time": "2020-12-13T15:13:46.994007",
          "status": "completed"
        },
        "tags": [],
        "id": "UjPqt90AyXIH",
        "outputId": "ddda5dfd-a62a-4e85-9d55-0b2d02204c7b"
      },
      "source": [
        "print(Y_train.shape)\n",
        "print(Y_train[1])"
      ],
      "execution_count": null,
      "outputs": [
        {
          "output_type": "stream",
          "text": [
            "(42000, 10)\n",
            "[1. 0. 0. 0. 0. 0. 0. 0. 0. 0.]\n"
          ],
          "name": "stdout"
        }
      ]
    },
    {
      "cell_type": "code",
      "metadata": {
        "execution": {
          "iopub.execute_input": "2020-12-13T15:13:47.114975Z",
          "iopub.status.busy": "2020-12-13T15:13:47.113940Z",
          "iopub.status.idle": "2020-12-13T15:13:47.116967Z",
          "shell.execute_reply": "2020-12-13T15:13:47.116094Z"
        },
        "papermill": {
          "duration": 0.036551,
          "end_time": "2020-12-13T15:13:47.117150",
          "exception": false,
          "start_time": "2020-12-13T15:13:47.080599",
          "status": "completed"
        },
        "tags": [],
        "id": "_RzlKaxgyXII"
      },
      "source": [
        "from tensorflow.keras import layers,models"
      ],
      "execution_count": null,
      "outputs": []
    },
    {
      "cell_type": "code",
      "metadata": {
        "execution": {
          "iopub.execute_input": "2020-12-13T15:13:47.181234Z",
          "iopub.status.busy": "2020-12-13T15:13:47.180413Z",
          "iopub.status.idle": "2020-12-13T15:13:50.377832Z",
          "shell.execute_reply": "2020-12-13T15:13:50.377266Z"
        },
        "papermill": {
          "duration": 3.234499,
          "end_time": "2020-12-13T15:13:50.377979",
          "exception": false,
          "start_time": "2020-12-13T15:13:47.143480",
          "status": "completed"
        },
        "tags": [],
        "id": "GTODDdqByXII",
        "outputId": "a6621443-45dd-4e65-baa4-d66c02595324"
      },
      "source": [
        "model = models.Sequential()\n",
        "model.add(layers.Conv2D(filters = 64,kernel_size = (3,3),activation = 'relu',padding = 'same',input_shape = (28,28,1)))\n",
        "model.add(layers.Conv2D(filters = 64,kernel_size = (3,3),activation = 'relu',padding = 'same'))\n",
        "model.add(layers.MaxPooling2D(pool_size = (2,2)))\n",
        "\n",
        "model.add(layers.Conv2D(filters = 128,kernel_size = (3,3),activation = 'relu',padding = 'same'))\n",
        "model.add(layers.Conv2D(filters = 128,kernel_size = (3,3),activation = 'relu',padding = 'same'))\n",
        "model.add(layers.MaxPooling2D(pool_size = (2,2)))\n",
        "\n",
        "model.add(layers.Conv2D(128,kernel_size = (3,3),activation = 'relu'))\n",
        "model.add(layers.Conv2D(filters = 64,kernel_size = (3,3),activation = 'relu',padding = 'same'))\n",
        "\n",
        "\n",
        "model.add(layers.Flatten())\n",
        "\n",
        "model.add(layers.Dense(128,activation = 'relu'))\n",
        "model.add(layers.Dense(10,activation = 'softmax'))\n",
        "\n",
        "model.summary()\n"
      ],
      "execution_count": null,
      "outputs": [
        {
          "output_type": "stream",
          "text": [
            "Model: \"sequential\"\n",
            "_________________________________________________________________\n",
            "Layer (type)                 Output Shape              Param #   \n",
            "=================================================================\n",
            "conv2d (Conv2D)              (None, 28, 28, 64)        640       \n",
            "_________________________________________________________________\n",
            "conv2d_1 (Conv2D)            (None, 28, 28, 64)        36928     \n",
            "_________________________________________________________________\n",
            "max_pooling2d (MaxPooling2D) (None, 14, 14, 64)        0         \n",
            "_________________________________________________________________\n",
            "conv2d_2 (Conv2D)            (None, 14, 14, 128)       73856     \n",
            "_________________________________________________________________\n",
            "conv2d_3 (Conv2D)            (None, 14, 14, 128)       147584    \n",
            "_________________________________________________________________\n",
            "max_pooling2d_1 (MaxPooling2 (None, 7, 7, 128)         0         \n",
            "_________________________________________________________________\n",
            "conv2d_4 (Conv2D)            (None, 5, 5, 128)         147584    \n",
            "_________________________________________________________________\n",
            "conv2d_5 (Conv2D)            (None, 5, 5, 64)          73792     \n",
            "_________________________________________________________________\n",
            "flatten (Flatten)            (None, 1600)              0         \n",
            "_________________________________________________________________\n",
            "dense (Dense)                (None, 128)               204928    \n",
            "_________________________________________________________________\n",
            "dense_1 (Dense)              (None, 10)                1290      \n",
            "=================================================================\n",
            "Total params: 686,602\n",
            "Trainable params: 686,602\n",
            "Non-trainable params: 0\n",
            "_________________________________________________________________\n"
          ],
          "name": "stdout"
        }
      ]
    },
    {
      "cell_type": "code",
      "metadata": {
        "execution": {
          "iopub.execute_input": "2020-12-13T15:13:50.428571Z",
          "iopub.status.busy": "2020-12-13T15:13:50.427673Z",
          "iopub.status.idle": "2020-12-13T15:13:50.435546Z",
          "shell.execute_reply": "2020-12-13T15:13:50.435045Z"
        },
        "papermill": {
          "duration": 0.038037,
          "end_time": "2020-12-13T15:13:50.435645",
          "exception": false,
          "start_time": "2020-12-13T15:13:50.397608",
          "status": "completed"
        },
        "tags": [],
        "id": "zxTNuLcDyXII"
      },
      "source": [
        "model.compile(optimizer='rmsprop',loss='categorical_crossentropy',metrics=['accuracy'])"
      ],
      "execution_count": null,
      "outputs": []
    },
    {
      "cell_type": "code",
      "metadata": {
        "execution": {
          "iopub.execute_input": "2020-12-13T15:13:50.481329Z",
          "iopub.status.busy": "2020-12-13T15:13:50.480671Z",
          "iopub.status.idle": "2020-12-13T15:15:42.546383Z",
          "shell.execute_reply": "2020-12-13T15:15:42.545853Z"
        },
        "papermill": {
          "duration": 112.090647,
          "end_time": "2020-12-13T15:15:42.546499",
          "exception": false,
          "start_time": "2020-12-13T15:13:50.455852",
          "status": "completed"
        },
        "tags": [],
        "id": "76OjTv5CyXIJ",
        "outputId": "771ca329-5570-4f25-8985-11a8676f283a"
      },
      "source": [
        "model.fit(X_train,Y_train,epochs=20,batch_size = 65)"
      ],
      "execution_count": null,
      "outputs": [
        {
          "output_type": "stream",
          "text": [
            "Epoch 1/20\n",
            "647/647 [==============================] - 5s 8ms/step - loss: 0.2041 - accuracy: 0.9359\n",
            "Epoch 2/20\n",
            "647/647 [==============================] - 5s 8ms/step - loss: 0.0476 - accuracy: 0.9863\n",
            "Epoch 3/20\n",
            "647/647 [==============================] - 5s 8ms/step - loss: 0.0316 - accuracy: 0.9905\n",
            "Epoch 4/20\n",
            "647/647 [==============================] - 5s 8ms/step - loss: 0.0265 - accuracy: 0.9930\n",
            "Epoch 5/20\n",
            "647/647 [==============================] - 6s 9ms/step - loss: 0.0231 - accuracy: 0.9937\n",
            "Epoch 6/20\n",
            "647/647 [==============================] - 5s 8ms/step - loss: 0.0203 - accuracy: 0.9947\n",
            "Epoch 7/20\n",
            "647/647 [==============================] - 5s 8ms/step - loss: 0.0192 - accuracy: 0.9948\n",
            "Epoch 8/20\n",
            "647/647 [==============================] - 6s 9ms/step - loss: 0.0160 - accuracy: 0.9960\n",
            "Epoch 9/20\n",
            "647/647 [==============================] - 5s 8ms/step - loss: 0.0155 - accuracy: 0.9962\n",
            "Epoch 10/20\n",
            "647/647 [==============================] - 5s 8ms/step - loss: 0.0157 - accuracy: 0.9967\n",
            "Epoch 11/20\n",
            "647/647 [==============================] - 6s 9ms/step - loss: 0.0155 - accuracy: 0.9970\n",
            "Epoch 12/20\n",
            "647/647 [==============================] - 5s 8ms/step - loss: 0.0114 - accuracy: 0.9977\n",
            "Epoch 13/20\n",
            "647/647 [==============================] - 5s 8ms/step - loss: 0.0138 - accuracy: 0.9973\n",
            "Epoch 14/20\n",
            "647/647 [==============================] - 5s 8ms/step - loss: 0.0159 - accuracy: 0.9968\n",
            "Epoch 15/20\n",
            "647/647 [==============================] - 5s 8ms/step - loss: 0.0118 - accuracy: 0.9976\n",
            "Epoch 16/20\n",
            "647/647 [==============================] - 5s 8ms/step - loss: 0.0153 - accuracy: 0.9974\n",
            "Epoch 17/20\n",
            "647/647 [==============================] - 6s 9ms/step - loss: 0.0158 - accuracy: 0.9971\n",
            "Epoch 18/20\n",
            "647/647 [==============================] - 5s 8ms/step - loss: 0.0133 - accuracy: 0.9979\n",
            "Epoch 19/20\n",
            "647/647 [==============================] - 5s 8ms/step - loss: 0.0110 - accuracy: 0.9980\n",
            "Epoch 20/20\n",
            "647/647 [==============================] - 6s 9ms/step - loss: 0.0169 - accuracy: 0.9977\n"
          ],
          "name": "stdout"
        },
        {
          "output_type": "execute_result",
          "data": {
            "text/plain": [
              "<tensorflow.python.keras.callbacks.History at 0x7fcdeafdeb10>"
            ]
          },
          "metadata": {
            "tags": []
          },
          "execution_count": 15
        }
      ]
    },
    {
      "cell_type": "code",
      "metadata": {
        "execution": {
          "iopub.execute_input": "2020-12-13T15:15:44.022963Z",
          "iopub.status.busy": "2020-12-13T15:15:44.021776Z",
          "iopub.status.idle": "2020-12-13T15:15:45.235897Z",
          "shell.execute_reply": "2020-12-13T15:15:45.235160Z"
        },
        "papermill": {
          "duration": 1.994932,
          "end_time": "2020-12-13T15:15:45.236028",
          "exception": false,
          "start_time": "2020-12-13T15:15:43.241096",
          "status": "completed"
        },
        "tags": [],
        "id": "i2tTck30yXIJ"
      },
      "source": [
        "results = model.predict(test)"
      ],
      "execution_count": null,
      "outputs": []
    },
    {
      "cell_type": "code",
      "metadata": {
        "execution": {
          "iopub.execute_input": "2020-12-13T15:15:46.673790Z",
          "iopub.status.busy": "2020-12-13T15:15:46.672277Z",
          "iopub.status.idle": "2020-12-13T15:15:46.676249Z",
          "shell.execute_reply": "2020-12-13T15:15:46.676753Z"
        },
        "papermill": {
          "duration": 0.707641,
          "end_time": "2020-12-13T15:15:46.676907",
          "exception": false,
          "start_time": "2020-12-13T15:15:45.969266",
          "status": "completed"
        },
        "tags": [],
        "id": "RSK5hPLHyXIJ"
      },
      "source": [
        "results = np.argmax(results,axis = 1)"
      ],
      "execution_count": null,
      "outputs": []
    },
    {
      "cell_type": "code",
      "metadata": {
        "execution": {
          "iopub.execute_input": "2020-12-13T15:15:48.308812Z",
          "iopub.status.busy": "2020-12-13T15:15:48.307921Z",
          "iopub.status.idle": "2020-12-13T15:15:48.313345Z",
          "shell.execute_reply": "2020-12-13T15:15:48.314534Z"
        },
        "papermill": {
          "duration": 0.910166,
          "end_time": "2020-12-13T15:15:48.314699",
          "exception": false,
          "start_time": "2020-12-13T15:15:47.404533",
          "status": "completed"
        },
        "tags": [],
        "id": "-ilaPAfoyXIK"
      },
      "source": [
        "\n",
        "results = pd.Series(results,name=\"Label\")"
      ],
      "execution_count": null,
      "outputs": []
    },
    {
      "cell_type": "code",
      "metadata": {
        "execution": {
          "iopub.execute_input": "2020-12-13T15:15:49.805623Z",
          "iopub.status.busy": "2020-12-13T15:15:49.805024Z",
          "iopub.status.idle": "2020-12-13T15:15:50.065596Z",
          "shell.execute_reply": "2020-12-13T15:15:50.064717Z"
        },
        "papermill": {
          "duration": 0.988449,
          "end_time": "2020-12-13T15:15:50.065708",
          "exception": false,
          "start_time": "2020-12-13T15:15:49.077259",
          "status": "completed"
        },
        "tags": [],
        "id": "BpYifK51yXIK"
      },
      "source": [
        "submission = pd.concat([pd.Series(range(1,28001),name = \"ImageId\"),results],axis = 1)\n",
        "\n",
        "submission.to_csv(\"MNIST.csv\",index=False)"
      ],
      "execution_count": null,
      "outputs": []
    },
    {
      "cell_type": "code",
      "metadata": {
        "papermill": {
          "duration": 0.704687,
          "end_time": "2020-12-13T15:15:51.468384",
          "exception": false,
          "start_time": "2020-12-13T15:15:50.763697",
          "status": "completed"
        },
        "tags": [],
        "id": "22d_puncyXIK"
      },
      "source": [
        ""
      ],
      "execution_count": null,
      "outputs": []
    }
  ]
}